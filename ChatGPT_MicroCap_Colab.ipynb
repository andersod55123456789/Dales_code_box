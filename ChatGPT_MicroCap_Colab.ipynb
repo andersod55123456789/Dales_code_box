{
  "cells": [
    {
      "cell_type": "markdown",
      "metadata": {
        "id": "view-in-github",
        "colab_type": "text"
      },
      "source": [
        "<a href=\"https://colab.research.google.com/github/andersod55123456789/Dales_code_box/blob/main/ChatGPT_MicroCap_Colab.ipynb\" target=\"_parent\"><img src=\"https://colab.research.google.com/assets/colab-badge.svg\" alt=\"Open In Colab\"/></a>"
      ]
    },
    {
      "cell_type": "markdown",
      "id": "79dcac6d",
      "metadata": {
        "id": "79dcac6d"
      },
      "source": [
        "# ChatGPT Micro-Cap Experiment — Colab Runner\n",
        "\n",
        "This notebook clones and runs `trading_script.py` from the GitHub project.\n",
        "Use it for experiments and learning. Not financial advice.\n"
      ]
    },
    {
      "cell_type": "markdown",
      "id": "a4848e81",
      "metadata": {
        "id": "a4848e81"
      },
      "source": [
        "## 1) Environment and dependencies"
      ]
    },
    {
      "cell_type": "code",
      "execution_count": 1,
      "id": "b09d171a",
      "metadata": {
        "colab": {
          "base_uri": "https://localhost:8080/"
        },
        "id": "b09d171a",
        "outputId": "5dc33311-d881-4aea-f15e-cc59213d79c9"
      },
      "outputs": [
        {
          "output_type": "stream",
          "name": "stdout",
          "text": [
            "3.12.11 (main, Jun  4 2025, 08:56:18) [GCC 11.4.0]\n",
            "Linux-6.1.123+-x86_64-with-glibc2.35\n",
            "\u001b[2K   \u001b[90m━━━━━━━━━━━━━━━━━━━━━━━━━━━━━━━━━━━━━━━━\u001b[0m \u001b[32m1.8/1.8 MB\u001b[0m \u001b[31m20.6 MB/s\u001b[0m eta \u001b[36m0:00:00\u001b[0m\n",
            "\u001b[?25hCloning into 'ChatGPT-Micro-Cap-Experiment'...\n",
            "remote: Enumerating objects: 1247, done.\u001b[K\n",
            "remote: Counting objects: 100% (36/36), done.\u001b[K\n",
            "remote: Compressing objects: 100% (22/22), done.\u001b[K\n",
            "remote: Total 1247 (delta 22), reused 14 (delta 14), pack-reused 1211 (from 3)\u001b[K\n",
            "Receiving objects: 100% (1247/1247), 3.93 MiB | 22.85 MiB/s, done.\n",
            "Resolving deltas: 100% (683/683), done.\n",
            "/content/ChatGPT-Micro-Cap-Experiment\n",
            "\u001b[31mERROR: pip's dependency resolver does not currently take into account all the packages that are installed. This behaviour is the source of the following dependency conflicts.\n",
            "opencv-python-headless 4.12.0.88 requires numpy<2.3.0,>=2; python_version >= \"3.9\", but you have numpy 2.3.2 which is incompatible.\n",
            "numba 0.60.0 requires numpy<2.1,>=1.22, but you have numpy 2.3.2 which is incompatible.\n",
            "cupy-cuda12x 13.3.0 requires numpy<2.3,>=1.22, but you have numpy 2.3.2 which is incompatible.\n",
            "opencv-python 4.12.0.88 requires numpy<2.3.0,>=2; python_version >= \"3.9\", but you have numpy 2.3.2 which is incompatible.\n",
            "tensorflow 2.19.0 requires numpy<2.2.0,>=1.26.0, but you have numpy 2.3.2 which is incompatible.\n",
            "opencv-contrib-python 4.12.0.88 requires numpy<2.3.0,>=2; python_version >= \"3.9\", but you have numpy 2.3.2 which is incompatible.\u001b[0m\u001b[31m\n",
            "\u001b[0m"
          ]
        }
      ],
      "source": [
        "import sys, platform\n",
        "print(sys.version)\n",
        "print(platform.platform())\n",
        "\n",
        "# Upgrade pip and install core dependencies\n",
        "!pip -q install --upgrade pip\n",
        "!pip -q install yfinance==0.2.52 pandas matplotlib requests openai duckduckgo-search\n",
        "\n",
        "# Clone repo fresh\n",
        "!rm -rf ChatGPT-Micro-Cap-Experiment\n",
        "!git clone https://github.com/LuckyOne7777/ChatGPT-Micro-Cap-Experiment.git\n",
        "%cd ChatGPT-Micro-Cap-Experiment\n",
        "\n",
        "# If the project adds a requirements file later\n",
        "!if [ -f requirements.txt ]; then pip -q install -r requirements.txt; fi\n"
      ]
    },
    {
      "cell_type": "markdown",
      "id": "b4e1371e",
      "metadata": {
        "id": "b4e1371e"
      },
      "source": [
        "## 2) Set your OpenAI API key"
      ]
    },
    {
      "cell_type": "code",
      "execution_count": 4,
      "id": "a4a21dca",
      "metadata": {
        "colab": {
          "base_uri": "https://localhost:8080/"
        },
        "id": "a4a21dca",
        "outputId": "ec7c9d6d-5d96-42f6-b90c-ed24ec1e318b"
      },
      "outputs": [
        {
          "output_type": "stream",
          "name": "stdout",
          "text": [
            "Enter your OpenAI API key: ··········\n",
            "API key set in environment for this session.\n"
          ]
        }
      ],
      "source": [
        "# Enter your API key securely. Nothing prints to output.\n",
        "import os\n",
        "from getpass import getpass\n",
        "key = getpass(\"Enter your OpenAI API key: \")\n",
        "os.environ[\"OPENAI_API_KEY\"] = key.strip()\n",
        "assert os.environ.get(\"OPENAI_API_KEY\"), \"OPENAI_API_KEY is required to proceed.\"\n",
        "print(\"API key set in environment for this session.\")"
      ]
    },
    {
      "cell_type": "markdown",
      "id": "0bbe4df4",
      "metadata": {
        "id": "0bbe4df4"
      },
      "source": [
        "## 3) Optional: yfinance session hardening"
      ]
    },
    {
      "cell_type": "code",
      "execution_count": 5,
      "id": "8fbbb0ce",
      "metadata": {
        "colab": {
          "base_uri": "https://localhost:8080/"
        },
        "id": "8fbbb0ce",
        "outputId": "4859185b-5005-4908-abf6-9a4acebd4ace"
      },
      "outputs": [
        {
          "output_type": "stream",
          "name": "stdout",
          "text": [
            "yfinance session patched.\n"
          ]
        }
      ],
      "source": [
        "# If you hit Yahoo 'source=empty' or SSL hiccups, run this cell once.\n",
        "try:\n",
        "    import yfinance as yf, requests\n",
        "    session = requests.Session()\n",
        "    session.headers.update({\"User-Agent\": \"Mozilla/5.0\"})\n",
        "    # Monkey-patch the shared session used by yfinance\n",
        "    try:\n",
        "        # Newer yfinance\n",
        "        yf.shared._requests = session\n",
        "    except Exception:\n",
        "        # Fallback for older internal layouts\n",
        "        yf.utils._requests = session  # type: ignore\n",
        "    print(\"yfinance session patched.\")\n",
        "except Exception as e:\n",
        "    print(\"Patch skipped:\", e)"
      ]
    },
    {
      "cell_type": "markdown",
      "id": "446a251a",
      "metadata": {
        "id": "446a251a"
      },
      "source": [
        "## 4) Run the trading script"
      ]
    },
    {
      "cell_type": "code",
      "execution_count": 6,
      "id": "9b8c434e",
      "metadata": {
        "colab": {
          "base_uri": "https://localhost:8080/"
        },
        "id": "9b8c434e",
        "outputId": "ca9259f0-b866-4875-e009-56b288252c7f"
      },
      "outputs": [
        {
          "output_type": "stream",
          "name": "stdout",
          "text": [
            "🔥 2025-09-18 22:30:22,087 - trading_script.py:77 - INFO - === Trading Script Initial Configuration ===\n",
            "🔥 2025-09-18 22:30:22,087 - trading_script.py:78 - INFO - Script directory: /content/ChatGPT-Micro-Cap-Experiment\n",
            "🔥 2025-09-18 22:30:22,087 - trading_script.py:79 - INFO - Data directory: /content/ChatGPT-Micro-Cap-Experiment\n",
            "🔥 2025-09-18 22:30:22,087 - trading_script.py:80 - INFO - Portfolio CSV: /content/ChatGPT-Micro-Cap-Experiment/chatgpt_portfolio_update.csv\n",
            "🔥 2025-09-18 22:30:22,088 - trading_script.py:81 - INFO - Trade log CSV: /content/ChatGPT-Micro-Cap-Experiment/chatgpt_trade_log.csv\n",
            "🔥 2025-09-18 22:30:22,088 - trading_script.py:82 - INFO - Default benchmarks: ['IWO', 'XBI', 'SPY', 'IWM']\n",
            "🔥 2025-09-18 22:30:22,088 - trading_script.py:83 - INFO - ==============================================\n",
            "🔥 2025-09-18 22:30:22,088 - trading_script.py:1241 - INFO - Script started with arguments: {'data_dir': None, 'asof': None, 'log_level': 'INFO'}\n",
            "🔥 2025-09-18 22:30:22,088 - trading_script.py:1158 - INFO - Reading CSV file: /content/ChatGPT-Micro-Cap-Experiment/chatgpt_portfolio_update.csv\n",
            "Traceback (most recent call last):\n",
            "  File \"/content/ChatGPT-Micro-Cap-Experiment/trading_script.py\", line 1246, in <module>\n",
            "    main(Path(args.data_dir) if args.data_dir else None)\n",
            "  File \"/content/ChatGPT-Micro-Cap-Experiment/trading_script.py\", line 1216, in main\n",
            "    chatgpt_portfolio, cash = load_latest_portfolio_state()\n",
            "                              ^^^^^^^^^^^^^^^^^^^^^^^^^^^^^\n",
            "  File \"/content/ChatGPT-Micro-Cap-Experiment/trading_script.py\", line 1159, in load_latest_portfolio_state\n",
            "    df = pd.read_csv(PORTFOLIO_CSV)\n",
            "         ^^^^^^^^^^^^^^^^^^^^^^^^^^\n",
            "  File \"/usr/local/lib/python3.12/dist-packages/pandas/io/parsers/readers.py\", line 1026, in read_csv\n",
            "    return _read(filepath_or_buffer, kwds)\n",
            "           ^^^^^^^^^^^^^^^^^^^^^^^^^^^^^^^\n",
            "  File \"/usr/local/lib/python3.12/dist-packages/pandas/io/parsers/readers.py\", line 620, in _read\n",
            "    parser = TextFileReader(filepath_or_buffer, **kwds)\n",
            "             ^^^^^^^^^^^^^^^^^^^^^^^^^^^^^^^^^^^^^^^^^^\n",
            "  File \"/usr/local/lib/python3.12/dist-packages/pandas/io/parsers/readers.py\", line 1620, in __init__\n",
            "    self._engine = self._make_engine(f, self.engine)\n",
            "                   ^^^^^^^^^^^^^^^^^^^^^^^^^^^^^^^^^\n",
            "  File \"/usr/local/lib/python3.12/dist-packages/pandas/io/parsers/readers.py\", line 1880, in _make_engine\n",
            "    self.handles = get_handle(\n",
            "                   ^^^^^^^^^^^\n",
            "  File \"/usr/local/lib/python3.12/dist-packages/pandas/io/common.py\", line 873, in get_handle\n",
            "    handle = open(\n",
            "             ^^^^^\n",
            "FileNotFoundError: [Errno 2] No such file or directory: '/content/ChatGPT-Micro-Cap-Experiment/chatgpt_portfolio_update.csv'\n"
          ]
        }
      ],
      "source": [
        "# Run the main script\n",
        "!python trading_script.py"
      ]
    },
    {
      "cell_type": "markdown",
      "id": "e8881cd2",
      "metadata": {
        "id": "e8881cd2"
      },
      "source": [
        "## 5) Inspect generated files"
      ]
    },
    {
      "cell_type": "code",
      "execution_count": 7,
      "id": "da589e2d",
      "metadata": {
        "colab": {
          "base_uri": "https://localhost:8080/"
        },
        "id": "da589e2d",
        "outputId": "483ebf67-089a-40b4-e27f-2a7b1fa1ea45"
      },
      "outputs": [
        {
          "output_type": "stream",
          "name": "stdout",
          "text": [
            "Found 8 files.\n",
            "/content/ChatGPT-Micro-Cap-Experiment/Other/License.txt\n",
            "/content/ChatGPT-Micro-Cap-Experiment/Other/performance_chart.png\n",
            "/content/ChatGPT-Micro-Cap-Experiment/Results.png\n",
            "/content/ChatGPT-Micro-Cap-Experiment/Scripts and CSV Files/chatgpt_portfolio_update.csv\n",
            "/content/ChatGPT-Micro-Cap-Experiment/Scripts and CSV Files/chatgpt_trade_log.csv\n",
            "/content/ChatGPT-Micro-Cap-Experiment/Start Your Own/chatgpt_portfolio_update.csv\n",
            "/content/ChatGPT-Micro-Cap-Experiment/Start Your Own/chatgpt_trade_log.csv\n",
            "/content/ChatGPT-Micro-Cap-Experiment/requirements.txt\n"
          ]
        }
      ],
      "source": [
        "# List files created or updated by the run\n",
        "import os, textwrap, glob, pathlib, json, sys\n",
        "from pathlib import Path\n",
        "\n",
        "root = Path.cwd()\n",
        "candidates = []\n",
        "for pat in [\"**/*.csv\", \"**/*.png\", \"**/*.jpg\", \"**/*.log\", \"**/*.txt\", \"**/*.json\"]:\n",
        "    candidates.extend([str(p) for p in root.glob(pat) if p.is_file()])\n",
        "\n",
        "print(f\"Found {len(candidates)} files.\")\n",
        "for p in sorted(candidates)[:100]:\n",
        "    print(p)\n",
        "\n",
        "# Show tail of likely logs if present\n",
        "for name in [\"log.txt\", \"logs.txt\", \"run.log\"]:\n",
        "    if Path(name).exists():\n",
        "        print(\"\\n--- tail of\", name, \"---\")\n",
        "        print(Path(name).read_text()[-2000:])"
      ]
    },
    {
      "cell_type": "markdown",
      "id": "61a90480",
      "metadata": {
        "id": "61a90480"
      },
      "source": [
        "## 6) Troubleshooting quick hits\n",
        "\n",
        "- **No data / `source=empty`** — Run the *yfinance session hardening* cell, then retry.\n",
        "- **SSL/TLS errors** — Same as above. Ensure you ran all dependency cells.\n",
        "- **Matplotlib backend error** — Add:\n",
        "  ```python\n",
        "  import matplotlib; matplotlib.use(\"Agg\")\n",
        "  ```\n",
        "  at the top of `trading_script.py` or a new cell before running it.\n",
        "- **Rate limits / model errors** — Reduce request frequency or switch to a cheaper model in the code if configurable.\n"
      ]
    }
  ],
  "metadata": {
    "colab": {
      "provenance": [],
      "include_colab_link": true
    },
    "language_info": {
      "name": "python"
    },
    "kernelspec": {
      "name": "python3",
      "display_name": "Python 3"
    }
  },
  "nbformat": 4,
  "nbformat_minor": 5
}